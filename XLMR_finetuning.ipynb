from transformers import XLMRobertaTokenizerFast, XLMRobertaForQuestionAnswering, Trainer, TrainingArguments
from datasets import load_dataset


# Initialize the XLM-R tokenizer and model
model_name = "FacebookAI/xlm-roberta-base"
tokenizer = XLMRobertaTokenizerFast.from_pretrained(model_name)
model = XLMRobertaForQuestionAnswering.from_pretrained(model_name)

# Load the SQuAD v1 dataset

dataset = load_dataset("squad", split="train")

# Preprocess the dataset
def preprocess_function(examples):
    # Tokenize the inputs
    inputs = tokenizer(
        examples["question"],
        examples["context"],
        max_length=384,
        truncation="only_second",
        padding="max_length",
        return_offsets_mapping=True,
        return_tensors="pt"
    )
    
    # Compute start and end positions
    start_positions = []
    end_positions = []
    for i, offsets in enumerate(inputs["offset_mapping"]):
        answer = examples["answers"][i]
        start_char = answer["answer_start"][0]
        end_char = start_char + len(answer["text"][0])
        
        # Find the start and end token indices
        sequence_ids = inputs.sequence_ids(i)
        context_start = sequence_ids.index(1)
        context_end = len(sequence_ids) - 1 - sequence_ids[::-1].index(1)
        
        # If the answer is not in the context, set start and end positions to 0
        if start_char < offsets[context_start][0] or end_char > offsets[context_end][1]:
            start_positions.append(0)
            end_positions.append(0)
        else:
            start_positions.append(next(idx for idx, offset in enumerate(offsets) if offset[0] <= start_char < offset[1]))
            end_positions.append(next(idx for idx, offset in enumerate(offsets) if offset[0] < end_char <= offset[1]))
    
    inputs["start_positions"] = start_positions
    inputs["end_positions"] = end_positions
    return inputs

# Tokenize dataset
tokenized_datasets = dataset.map(preprocess_function, batched=True, remove_columns=dataset.column_names)
validation_data = val_data.map(preprocess_function, batched=True, remove_columns=val_data.column_names)

# Define training arguments
training_args = TrainingArguments(
    output_dir="./finetuned/XLMR",
    eval_strategy="epoch",
    save_strategy="epoch",
    learning_rate=3e-5,
    per_device_train_batch_size=16,
    per_device_eval_batch_size=16,
    num_train_epochs=5,
    weight_decay=0.01,
    logging_dir="./logs",
    logging_steps=10,
    optim="adamw_torch",
    load_best_model_at_end=True,
 )

# Initialize the Trainer
trainer = Trainer(
    model=model,
    args=training_args,
    train_dataset=tokenized_datasets,
    eval_dataset=tokenized_datasets, #validation_data,
    tokenizer=tokenizer,
)

#Save the finetuned model
train_results = trainer.train()
trainer.save_model()

# Evaluate the model
eval_results = trainer.evaluate()
print(eval_results)